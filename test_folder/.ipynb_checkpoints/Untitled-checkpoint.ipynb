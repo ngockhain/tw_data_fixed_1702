{
 "cells": [
  {
   "cell_type": "code",
   "execution_count": 3,
   "metadata": {},
   "outputs": [],
   "source": [
    "import pandas as pd\n",
    "import numpy as np"
   ]
  },
  {
   "cell_type": "code",
   "execution_count": 4,
   "metadata": {},
   "outputs": [],
   "source": [
    "root_dir = 'test_target/'"
   ]
  },
  {
   "cell_type": "code",
   "execution_count": 5,
   "metadata": {},
   "outputs": [
    {
     "name": "stdout",
     "output_type": "stream",
     "text": [
      "test_target/test_19_target.csv\r"
     ]
    }
   ],
   "source": [
    "frames = []\n",
    "\n",
    "for idx in range(20):\n",
    "    file_path = root_dir + 'test_' + str(idx) + '_target.csv'\n",
    "    df = pd.read_csv(file_path)\n",
    "    df['filename'] = df['filename'].apply(lambda x: 'test_image/test_' + str(idx) + '/' + x)\n",
    "    print(file_path, end='\\r')\n",
    "    frames.append(df)"
   ]
  },
  {
   "cell_type": "code",
   "execution_count": 6,
   "metadata": {},
   "outputs": [],
   "source": [
    "train_full = pd.concat(frames)\n",
    "train_full.to_csv('test_target.csv', index=None)"
   ]
  },
  {
   "cell_type": "code",
   "execution_count": null,
   "metadata": {},
   "outputs": [
    {
     "name": "stdout",
     "output_type": "stream",
     "text": [
      "test_image/test_0/candlebar_95-124.png\r"
     ]
    }
   ],
   "source": [
    "import cv2\n",
    "df = pd.read_csv('test_target.csv')\n",
    "for filename in df['filename'].tolist():\n",
    "    img = cv2.imread(filename)\n",
    "    print(filename, end='\\r')\n",
    "    cv2.imwrite('123.png', img)"
   ]
  },
  {
   "cell_type": "code",
   "execution_count": null,
   "metadata": {},
   "outputs": [],
   "source": []
  }
 ],
 "metadata": {
  "kernelspec": {
   "display_name": "Python (python36)",
   "language": "python",
   "name": "python36"
  },
  "language_info": {
   "codemirror_mode": {
    "name": "ipython",
    "version": 3
   },
   "file_extension": ".py",
   "mimetype": "text/x-python",
   "name": "python",
   "nbconvert_exporter": "python",
   "pygments_lexer": "ipython3",
   "version": "3.6.12"
  }
 },
 "nbformat": 4,
 "nbformat_minor": 4
}
